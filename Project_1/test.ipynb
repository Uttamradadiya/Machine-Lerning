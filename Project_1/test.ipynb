{
 "cells": [
  {
   "cell_type": "code",
   "execution_count": 1,
   "metadata": {},
   "outputs": [],
   "source": [
    "import pandas as pd\n",
    "from sklearn.model_selection import train_test_split\n",
    "import matplotlib.pyplot as plt\n",
    "import seaborn as sns\n",
    "import plotly.graph_objects as go\n",
    "from naive_bayes_classifier import NaiveBayes\n",
    "from sklearn.metrics import confusion_matrix"
   ]
  },
  {
   "cell_type": "code",
   "execution_count": 2,
   "metadata": {},
   "outputs": [],
   "source": [
    "# Load the inflammation diagnosis dataset using semicolon as the delimiter\n",
    "data = pd.read_csv('inflammation_diagnosis.csv', delimiter=';')"
   ]
  },
  {
   "cell_type": "code",
   "execution_count": 3,
   "metadata": {},
   "outputs": [
    {
     "name": "stdout",
     "output_type": "stream",
     "text": [
      "Dataset structure after parsing with semicolon:\n",
      "<class 'pandas.core.frame.DataFrame'>\n",
      "RangeIndex: 120 entries, 0 to 119\n",
      "Data columns (total 8 columns):\n",
      " #   Column              Non-Null Count  Dtype  \n",
      "---  ------              --------------  -----  \n",
      " 0   temperature         120 non-null    float64\n",
      " 1   nausea              120 non-null    object \n",
      " 2   lumbar_pain         120 non-null    object \n",
      " 3   urine_pushing       120 non-null    object \n",
      " 4   micturition_pains   120 non-null    object \n",
      " 5   burning_of_urethra  120 non-null    object \n",
      " 6   inflammation        120 non-null    object \n",
      " 7   nephritis           120 non-null    object \n",
      "dtypes: float64(1), object(7)\n",
      "memory usage: 7.6+ KB\n",
      "None\n",
      "   temperature nausea lumbar_pain urine_pushing micturition_pains  \\\n",
      "0         35.5     no         yes            no                no   \n",
      "1         35.9     no          no           yes               yes   \n",
      "2         35.9     no         yes            no                no   \n",
      "3         36.0     no          no           yes               yes   \n",
      "4         36.0     no         yes            no                no   \n",
      "\n",
      "  burning_of_urethra inflammation nephritis  \n",
      "0                 no           no        no  \n",
      "1                yes          yes        no  \n",
      "2                 no           no        no  \n",
      "3                yes          yes        no  \n",
      "4                 no           no        no  \n"
     ]
    }
   ],
   "source": [
    "# Print the first few rows and the column names to verify the structure\n",
    "print(\"Dataset structure after parsing with semicolon:\")\n",
    "print(data.info())\n",
    "print(data.head())"
   ]
  },
  {
   "cell_type": "code",
   "execution_count": 4,
   "metadata": {},
   "outputs": [
    {
     "name": "stdout",
     "output_type": "stream",
     "text": [
      "\n",
      "Preview of the 'disease' column after combining 'inflammation' and 'nephritis':\n",
      "  inflammation nephritis  disease\n",
      "0           no        no    False\n",
      "1          yes        no     True\n",
      "2           no        no    False\n",
      "3          yes        no     True\n",
      "4           no        no    False\n"
     ]
    }
   ],
   "source": [
    "# Check if 'inflammation' and 'nephritis' exist, and handle them properly\n",
    "if 'inflammation' in data.columns and 'nephritis' in data.columns:\n",
    "    # Create the 'disease' column\n",
    "    data['disease'] = data.apply(lambda row: row['inflammation'] == 'yes' or row['nephritis'] == 'yes', axis=1)\n",
    "\n",
    "    # Print the first few rows of the new 'disease' column to verify its correctness\n",
    "    print(\"\\nPreview of the 'disease' column after combining 'inflammation' and 'nephritis':\")\n",
    "    print(data[['inflammation', 'nephritis', 'disease']].head())\n",
    "\n",
    "else:\n",
    "    print(\"The dataset does not contain the expected columns 'inflammation' and 'nephritis'.\")\n",
    "    print(\"Columns found:\", data.columns)"
   ]
  },
  {
   "cell_type": "code",
   "execution_count": 5,
   "metadata": {},
   "outputs": [],
   "source": [
    "infla = data[data.columns]\n",
    "\n",
    "# Drop the original columns 'inflammation' and 'nephritis' as per instructions\n",
    "data = data.drop(columns=['inflammation', 'nephritis'])"
   ]
  },
  {
   "cell_type": "code",
   "execution_count": 6,
   "metadata": {},
   "outputs": [],
   "source": [
    "# Proceed with train/test split using the 'disease' column as the target\n",
    "X = data.drop(columns=['disease'])\n",
    "y = data['disease']\n",
    "\n",
    "# Split the data into train and test sets (80% train, 20% test)\n",
    "X_train, X_test, y_train, y_test = train_test_split(X, y, test_size=0.2, random_state=42)\n"
   ]
  },
  {
   "cell_type": "code",
   "execution_count": 7,
   "metadata": {},
   "outputs": [],
   "source": [
    "# Train the Naive Bayes classifier\n",
    "nb = NaiveBayes()\n",
    "nb.fit(X_train, y_train)"
   ]
  },
  {
   "cell_type": "code",
   "execution_count": 8,
   "metadata": {},
   "outputs": [
    {
     "name": "stdout",
     "output_type": "stream",
     "text": [
      "Accuracy: 100.00%\n"
     ]
    }
   ],
   "source": [
    "# Evaluate the classifier on the test set\n",
    "y_pred = nb.evaluate_on_data(X_test, y_test)"
   ]
  },
  {
   "cell_type": "code",
   "execution_count": 9,
   "metadata": {},
   "outputs": [],
   "source": [
    "# Generate confusion matrix\n",
    "conf_matrix = confusion_matrix(y_test, y_pred)"
   ]
  },
  {
   "cell_type": "code",
   "execution_count": 10,
   "metadata": {},
   "outputs": [
    {
     "data": {
      "image/png": "[encoded data removed]",
      "text/plain": [
       "<Figure size 640x480 with 2 Axes>"
      ]
     },
     "metadata": {},
     "output_type": "display_data"
    }
   ],
   "source": [
    "# Plot the confusion matrix\n",
    "sns.heatmap(conf_matrix, annot=True, fmt=\"d\", cmap=\"Blues\", xticklabels=['False', 'True'], yticklabels=['False', 'True'])\n",
    "plt.xlabel('Predicted')\n",
    "plt.ylabel('Actual')\n",
    "plt.title('Confusion Matrix')\n",
    "plt.show()"
   ]
  },
  {
   "cell_type": "code",
   "execution_count": 11,
   "metadata": {},
   "outputs": [
    {
     "data": {
      "text/html": [
       "<div>\n",
       "<style scoped>\n",
       "    .dataframe tbody tr th:only-of-type {\n",
       "        vertical-align: middle;\n",
       "    }\n",
       "\n",
       "    .dataframe tbody tr th {\n",
       "        vertical-align: top;\n",
       "    }\n",
       "\n",
       "    .dataframe thead th {\n",
       "        text-align: right;\n",
       "    }\n",
       "</style>\n",
       "<table border=\"1\" class=\"dataframe\">\n",
       "  <thead>\n",
       "    <tr style=\"text-align: right;\">\n",
       "      <th></th>\n",
       "      <th>temperature</th>\n",
       "      <th>nausea</th>\n",
       "      <th>lumbar_pain</th>\n",
       "      <th>urine_pushing</th>\n",
       "      <th>micturition_pains</th>\n",
       "      <th>burning_of_urethra</th>\n",
       "      <th>inflammation</th>\n",
       "      <th>nephritis</th>\n",
       "      <th>disease</th>\n",
       "    </tr>\n",
       "  </thead>\n",
       "  <tbody>\n",
       "    <tr>\n",
       "      <th>0</th>\n",
       "      <td>35.5</td>\n",
       "      <td>no</td>\n",
       "      <td>yes</td>\n",
       "      <td>no</td>\n",
       "      <td>no</td>\n",
       "      <td>no</td>\n",
       "      <td>no</td>\n",
       "      <td>no</td>\n",
       "      <td>False</td>\n",
       "    </tr>\n",
       "    <tr>\n",
       "      <th>1</th>\n",
       "      <td>35.9</td>\n",
       "      <td>no</td>\n",
       "      <td>no</td>\n",
       "      <td>yes</td>\n",
       "      <td>yes</td>\n",
       "      <td>yes</td>\n",
       "      <td>yes</td>\n",
       "      <td>no</td>\n",
       "      <td>True</td>\n",
       "    </tr>\n",
       "    <tr>\n",
       "      <th>2</th>\n",
       "      <td>35.9</td>\n",
       "      <td>no</td>\n",
       "      <td>yes</td>\n",
       "      <td>no</td>\n",
       "      <td>no</td>\n",
       "      <td>no</td>\n",
       "      <td>no</td>\n",
       "      <td>no</td>\n",
       "      <td>False</td>\n",
       "    </tr>\n",
       "    <tr>\n",
       "      <th>3</th>\n",
       "      <td>36.0</td>\n",
       "      <td>no</td>\n",
       "      <td>no</td>\n",
       "      <td>yes</td>\n",
       "      <td>yes</td>\n",
       "      <td>yes</td>\n",
       "      <td>yes</td>\n",
       "      <td>no</td>\n",
       "      <td>True</td>\n",
       "    </tr>\n",
       "    <tr>\n",
       "      <th>4</th>\n",
       "      <td>36.0</td>\n",
       "      <td>no</td>\n",
       "      <td>yes</td>\n",
       "      <td>no</td>\n",
       "      <td>no</td>\n",
       "      <td>no</td>\n",
       "      <td>no</td>\n",
       "      <td>no</td>\n",
       "      <td>False</td>\n",
       "    </tr>\n",
       "    <tr>\n",
       "      <th>...</th>\n",
       "      <td>...</td>\n",
       "      <td>...</td>\n",
       "      <td>...</td>\n",
       "      <td>...</td>\n",
       "      <td>...</td>\n",
       "      <td>...</td>\n",
       "      <td>...</td>\n",
       "      <td>...</td>\n",
       "      <td>...</td>\n",
       "    </tr>\n",
       "    <tr>\n",
       "      <th>115</th>\n",
       "      <td>41.4</td>\n",
       "      <td>no</td>\n",
       "      <td>yes</td>\n",
       "      <td>yes</td>\n",
       "      <td>no</td>\n",
       "      <td>yes</td>\n",
       "      <td>no</td>\n",
       "      <td>yes</td>\n",
       "      <td>True</td>\n",
       "    </tr>\n",
       "    <tr>\n",
       "      <th>116</th>\n",
       "      <td>41.5</td>\n",
       "      <td>no</td>\n",
       "      <td>no</td>\n",
       "      <td>no</td>\n",
       "      <td>no</td>\n",
       "      <td>no</td>\n",
       "      <td>no</td>\n",
       "      <td>no</td>\n",
       "      <td>False</td>\n",
       "    </tr>\n",
       "    <tr>\n",
       "      <th>117</th>\n",
       "      <td>41.5</td>\n",
       "      <td>yes</td>\n",
       "      <td>yes</td>\n",
       "      <td>no</td>\n",
       "      <td>yes</td>\n",
       "      <td>no</td>\n",
       "      <td>no</td>\n",
       "      <td>yes</td>\n",
       "      <td>True</td>\n",
       "    </tr>\n",
       "    <tr>\n",
       "      <th>118</th>\n",
       "      <td>41.5</td>\n",
       "      <td>no</td>\n",
       "      <td>yes</td>\n",
       "      <td>yes</td>\n",
       "      <td>no</td>\n",
       "      <td>yes</td>\n",
       "      <td>no</td>\n",
       "      <td>yes</td>\n",
       "      <td>True</td>\n",
       "    </tr>\n",
       "    <tr>\n",
       "      <th>119</th>\n",
       "      <td>41.5</td>\n",
       "      <td>no</td>\n",
       "      <td>yes</td>\n",
       "      <td>yes</td>\n",
       "      <td>no</td>\n",
       "      <td>yes</td>\n",
       "      <td>no</td>\n",
       "      <td>yes</td>\n",
       "      <td>True</td>\n",
       "    </tr>\n",
       "  </tbody>\n",
       "</table>\n",
       "<p>120 rows × 9 columns</p>\n",
       "</div>"
      ],
      "text/plain": [
       "     temperature nausea lumbar_pain urine_pushing micturition_pains  \\\n",
       "0           35.5     no         yes            no                no   \n",
       "1           35.9     no          no           yes               yes   \n",
       "2           35.9     no         yes            no                no   \n",
       "3           36.0     no          no           yes               yes   \n",
       "4           36.0     no         yes            no                no   \n",
       "..           ...    ...         ...           ...               ...   \n",
       "115         41.4     no         yes           yes                no   \n",
       "116         41.5     no          no            no                no   \n",
       "117         41.5    yes         yes            no               yes   \n",
       "118         41.5     no         yes           yes                no   \n",
       "119         41.5     no         yes           yes                no   \n",
       "\n",
       "    burning_of_urethra inflammation nephritis  disease  \n",
       "0                   no           no        no    False  \n",
       "1                  yes          yes        no     True  \n",
       "2                   no           no        no    False  \n",
       "3                  yes          yes        no     True  \n",
       "4                   no           no        no    False  \n",
       "..                 ...          ...       ...      ...  \n",
       "115                yes           no       yes     True  \n",
       "116                 no           no        no    False  \n",
       "117                 no           no       yes     True  \n",
       "118                yes           no       yes     True  \n",
       "119                yes           no       yes     True  \n",
       "\n",
       "[120 rows x 9 columns]"
      ]
     },
     "execution_count": 11,
     "metadata": {},
     "output_type": "execute_result"
    }
   ],
   "source": [
    "infla"
   ]
  }
 ],
 "metadata": {
  "kernelspec": {
   "display_name": "Python 3",
   "language": "python",
   "name": "python3"
  },
  "language_info": {
   "codemirror_mode": {
    "name": "ipython",
    "version": 3
   },
   "file_extension": ".py",
   "mimetype": "text/x-python",
   "name": "python",
   "nbconvert_exporter": "python",
   "pygments_lexer": "ipython3",
   "version": "3.13.0"
  },
  "orig_nbformat": 4
 },
 "nbformat": 4,
 "nbformat_minor": 2
}
